{
 "cells": [
  {
   "cell_type": "code",
   "execution_count": 1,
   "id": "1b2307d3",
   "metadata": {},
   "outputs": [
    {
     "name": "stderr",
     "output_type": "stream",
     "text": [
      "Using TensorFlow backend.\n"
     ]
    }
   ],
   "source": [
    "import numpy as np\n",
    "import energyflow as ef\n",
    "import torch\n",
    "import jetnet\n",
    "import cv2\n",
    "import copy\n",
    "import matplotlib.pyplot as plt\n",
    "from statistics import mean\n",
    "from tqdm.notebook import tqdm\n",
    "\n",
    "device = torch.device('cuda:0')\n",
    "ONE_HUNDRED_GEV = 100.0\n",
    "R = 0.4"
   ]
  },
  {
   "cell_type": "code",
   "execution_count": 2,
   "id": "2a8b1ccd",
   "metadata": {},
   "outputs": [
    {
     "name": "stderr",
     "output_type": "stream",
     "text": [
      "/tmp/ipykernel_50/1810978007.py:1: UserWarning: Creating a tensor from a list of numpy.ndarrays is extremely slow. Please consider converting the list to a single numpy.ndarray with numpy.array() before converting to a tensor. (Triggered internally at  ../torch/csrc/utils/tensor_new.cpp:201.)\n",
      "  img_2d_coord_mat = torch.tensor(np.meshgrid(np.arange(28), np.arange(28))).T.reshape(-1,2)\n"
     ]
    }
   ],
   "source": [
    "img_2d_coord_mat = torch.tensor(np.meshgrid(np.arange(28), np.arange(28))).T.reshape(-1,2)\n",
    "\n",
    "def img_to_sig_cv2(arr):\n",
    "    # create a signature to rep. img matrix for cv2 https://docs.opencv.org/2.4/modules/imgproc/doc/histograms.html#emd\n",
    "    sig = torch.hstack((arr.flatten()[...,np.newaxis], img_2d_coord_mat))\n",
    "    return sig.numpy()\n",
    "\n",
    "def calc_emd_cv2(img1, img2):\n",
    "    # calculate the emd between an image pair\n",
    "    sig1 = img_to_sig_cv2(img1)\n",
    "    sig2 = img_to_sig_cv2(img2)\n",
    "    emd_val = cv2.EMD(sig1, sig2, cv2.DIST_L2)[0]\n",
    "    return emd_val\n",
    "\n",
    "def calc_emd_on_batch_cv2(img1, img2):\n",
    "    # non-vectorized calculation between 2 batches\n",
    "    emds = []\n",
    "    for i1, i2 in zip(img1, img2):\n",
    "        emd_val = calc_emd_cv2(i1, i2)\n",
    "        emds.append(emd_val)\n",
    "    return torch.tensor(emds)"
   ]
  },
  {
   "cell_type": "code",
   "execution_count": 3,
   "id": "c6b59983",
   "metadata": {},
   "outputs": [],
   "source": [
    "# slower than cv2. Results in values of different scale but same distribution\n",
    "jet_coord_grid_step = R * 2 / 28\n",
    "coord_axis = np.arange(-R, R, jet_coord_grid_step) + jet_coord_grid_step / 2\n",
    "jet_img_coord = torch.tensor(np.meshgrid(coord_axis, coord_axis)).T.reshape(-1,2) # eta x phi for 28x28 grid\n",
    "\n",
    "def img_to_part_array_ef(img):\n",
    "    # make (pt, eta, phi) feat arr\n",
    "    arr = torch.hstack((img.flatten().unsqueeze(1), jet_img_coord))\n",
    "    return arr.numpy()\n",
    "\n",
    "def calc_emd_ef(arr1, arr2):\n",
    "    emd = ef.emd.emd(arr1, arr2, R=R)/ONE_HUNDRED_GEV\n",
    "    return emd\n",
    "\n",
    "def calc_emd_on_batch_ef(img1, img2):\n",
    "    emds = []\n",
    "    for i1, i2 in zip(img1, img2):\n",
    "        a1, a2 = img_to_part_array_ef(i1), img_to_part_array_ef(i2)\n",
    "        emd_val = calc_emd_ef(a1, a2)\n",
    "        emds.append(emd_val)\n",
    "    return torch.tensor(emds)"
   ]
  },
  {
   "cell_type": "markdown",
   "id": "b2fa882e",
   "metadata": {},
   "source": [
    "### Load in Dataset and Process to Images"
   ]
  },
  {
   "cell_type": "code",
   "execution_count": 4,
   "id": "01521908",
   "metadata": {},
   "outputs": [
    {
     "name": "stdout",
     "output_type": "stream",
     "text": [
      "Downloading QG_jets.npz from https://www.dropbox.com/s/fclsl7pukcpobsb/QG_jets.npz?dl=1 to /home/jovyan/.energyflow/datasets\n"
     ]
    }
   ],
   "source": [
    "data = ef.qg_jets.load(num_data=2000, pad=True, ncol=4, generator='pythia', with_bc=False, cache_dir='~/.energyflow')[0]"
   ]
  },
  {
   "cell_type": "code",
   "execution_count": 5,
   "id": "ea1bceda",
   "metadata": {},
   "outputs": [],
   "source": [
    "data = data[...,:-1] # drop pid from column features\n",
    "\n",
    "# preprocess by centering jets and normalizing pts\n",
    "for x in data:\n",
    "    mask = x[:,0] > 0\n",
    "    yphi_avg = np.average(x[mask,1:3], weights=x[mask,0], axis=0)\n",
    "    x[mask,1:3] -= yphi_avg\n",
    "    x[mask,0] /= x[:,0].sum()\n",
    "\n",
    "data_pre_img = data[:,:,[1,2,0]] # pt eta phi -> eta phi pt (order matters for to_image func)"
   ]
  },
  {
   "cell_type": "code",
   "execution_count": 6,
   "id": "ba1df14a",
   "metadata": {},
   "outputs": [],
   "source": [
    "imgs = []\n",
    "for jet in data_pre_img:\n",
    "    img = jetnet.utils.to_image(jet, im_size=28, maxR=0.4)\n",
    "    if img.sum() > 0:\n",
    "        imgs.append(img)"
   ]
  },
  {
   "cell_type": "code",
   "execution_count": 7,
   "id": "edc9f084",
   "metadata": {},
   "outputs": [
    {
     "data": {
      "text/plain": [
       "torch.Size([2000, 1, 28, 28])"
      ]
     },
     "execution_count": 7,
     "metadata": {},
     "output_type": "execute_result"
    }
   ],
   "source": [
    "imgs = np.stack(imgs)\n",
    "imgs = imgs[:, np.newaxis, ...] # add feature channel\n",
    "imgs = torch.tensor(imgs, dtype=torch.float32)\n",
    "imgs.shape"
   ]
  },
  {
   "cell_type": "code",
   "execution_count": 8,
   "id": "a29e7d48",
   "metadata": {},
   "outputs": [
    {
     "name": "stdout",
     "output_type": "stream",
     "text": [
      "torch.Size([1600, 1, 28, 28]) torch.Size([400, 1, 28, 28]) (1600, 139, 3) (400, 139, 3)\n"
     ]
    }
   ],
   "source": [
    "# 80:20 train val split\n",
    "rand_inds = torch.randperm(len(imgs))\n",
    "thresh = int(0.8 * len(rand_inds))\n",
    "train_imgs = imgs[rand_inds[:thresh]]\n",
    "valid_imgs = imgs[rand_inds[thresh:]]\n",
    "\n",
    "train_data = data[rand_inds[:thresh]] # pt eta phi matrices\n",
    "valid_data = data[rand_inds[thresh:]]\n",
    "print(train_imgs.shape, valid_imgs.shape, train_data.shape, valid_data.shape)"
   ]
  },
  {
   "cell_type": "markdown",
   "id": "5bed15ac",
   "metadata": {},
   "source": [
    "### Compare CV2 And Energyflow"
   ]
  },
  {
   "cell_type": "code",
   "execution_count": null,
   "id": "20252116",
   "metadata": {},
   "outputs": [],
   "source": [
    "# 1. loop through batch of images\n",
    "# 2. Generate emd scores with ef\n",
    "# 3. Repeat with cv2\n",
    "# 4. plot distributions\n",
    "\n",
    "ef_emds = []\n",
    "\n",
    "subset_imgs = valid_imgs[:len(valid_imgs) // 4]\n",
    "\n",
    "batch_size = 100\n",
    "for i in range(0, len(subset_imgs), batch_size):\n",
    "    batch_imgs = subset_imgs[i:i+batch_size]\n",
    "    for j in range(i + batch_size, len(subset_imgs), batch_size):\n",
    "        batch_imgs2 = subset_imgs[j: j + batch_size]\n",
    "        pred_emds = calc_emd_on_batch_ef(batch_imgs, batch_imgs2)\n",
    "        ef_emds.append(pred_emds)\n",
    "ef_emds = (torch.cat(ef_emds) * ONE_HUNDRED_GEV).tolist()"
   ]
  },
  {
   "cell_type": "code",
   "execution_count": null,
   "id": "084c78c6",
   "metadata": {},
   "outputs": [],
   "source": [
    "cv2_emds = []\n",
    "\n",
    "batch_size = 100\n",
    "for i in range(0, len(subset_imgs), batch_size):\n",
    "    batch_imgs = subset_imgs[i:i+batch_size]\n",
    "    for j in range(i + batch_size, len(subset_imgs), batch_size):\n",
    "        batch_imgs2 = subset_imgs[j: j + batch_size]\n",
    "        pred_emds = calc_emd_on_batch_cv2(batch_imgs, batch_imgs2)\n",
    "        cv2_emds.append(pred_emds)\n",
    "cv2_emds = torch.cat(cv2_emds).tolist()"
   ]
  },
  {
   "cell_type": "code",
   "execution_count": null,
   "id": "c85d20e7",
   "metadata": {},
   "outputs": [],
   "source": [
    "plt.hist(ef_emds, alpha=0.5);"
   ]
  },
  {
   "cell_type": "code",
   "execution_count": null,
   "id": "b85b82f7",
   "metadata": {},
   "outputs": [],
   "source": [
    "plt.hist(cv2_emds, alpha=0.5);"
   ]
  },
  {
   "cell_type": "markdown",
   "id": "9929dcce",
   "metadata": {},
   "source": [
    "### CNN AE Pre-Training"
   ]
  },
  {
   "cell_type": "code",
   "execution_count": 9,
   "id": "bd4df64f",
   "metadata": {},
   "outputs": [],
   "source": [
    "import torch.nn as nn\n",
    "\n",
    "class CNNAE(nn.Module):\n",
    "    def __init__(self):\n",
    "        super(CNNAE, self).__init__()\n",
    "        \n",
    "        self.encoder = nn.Sequential(\n",
    "            nn.Conv2d(1, 32, 3, padding='same'),\n",
    "            nn.BatchNorm2d(32),\n",
    "            nn.ReLU(),\n",
    "            nn.MaxPool2d(2),\n",
    "            nn.Conv2d(32, 64, 3, padding='same'),\n",
    "            nn.BatchNorm2d(64),\n",
    "            nn.ReLU(),\n",
    "            nn.MaxPool2d(2),\n",
    "            nn.Conv2d(64, 8, 3, padding='same'),\n",
    "            nn.BatchNorm2d(8),\n",
    "            nn.ReLU()\n",
    "        )\n",
    "        self.decoder = nn.Sequential(\n",
    "            nn.Conv2d(8, 64, 3, padding='same'),\n",
    "            nn.BatchNorm2d(64),\n",
    "            nn.ReLU(),\n",
    "            nn.Upsample(scale_factor=2),\n",
    "            nn.Conv2d(64, 32, 3, padding='same'),\n",
    "            nn.BatchNorm2d(32),\n",
    "            nn.ReLU(),\n",
    "            nn.Upsample(scale_factor=2),\n",
    "            nn.Conv2d(32, 1, 3, padding='same'),\n",
    "            nn.Softplus() # enforce positivity\n",
    "        )\n",
    "        \n",
    "    def forward(self, x):\n",
    "        out = self.encoder(x)\n",
    "        out = self.decoder(out)\n",
    "        return out"
   ]
  },
  {
   "cell_type": "code",
   "execution_count": 10,
   "id": "87354065",
   "metadata": {},
   "outputs": [],
   "source": [
    "lr = 0.001\n",
    "\n",
    "autoencoder = CNNAE().to(device)\n",
    "optimizer = torch.optim.Adam(autoencoder.parameters(), lr=lr)"
   ]
  },
  {
   "cell_type": "code",
   "execution_count": null,
   "id": "03eea105",
   "metadata": {
    "scrolled": false
   },
   "outputs": [],
   "source": [
    "max_epochs = 80\n",
    "batch_size = 256\n",
    "\n",
    "patience = 20\n",
    "stale_epochs = 0\n",
    "\n",
    "train_loss = []\n",
    "valid_loss = []\n",
    "\n",
    "for epoch in tqdm(range(max_epochs)):\n",
    "\n",
    "    # TRAIN\n",
    "    avg_loss = 0\n",
    "    rand_indices = torch.randperm(len(train_imgs)) # shuffling mechanism\n",
    "    t = tqdm(range(0, len(train_imgs), batch_size), leave=False, desc='Training...')\n",
    "    autoencoder.train()\n",
    "    for i in t:\n",
    "        batch_indices = rand_indices[i:i+batch_size]\n",
    "        batch = train_imgs[batch_indices]\n",
    "        batch = batch.to(device)\n",
    "        model_output = autoencoder(batch)\n",
    "        loss = nn.functional.mse_loss(batch, model_output) # TODO: Replace with emd\n",
    "        \n",
    "        optimizer.zero_grad()\n",
    "        loss.backward()\n",
    "        optimizer.step()\n",
    "        \n",
    "        loss = loss.sum().item()\n",
    "        t.set_description('train_loss = %.7f' % loss)\n",
    "        t.refresh()\n",
    "        avg_loss += loss / len(batch)\n",
    "    train_loss.append(avg_loss / len(t))\n",
    "\n",
    "    # VALIDATE\n",
    "    avg_loss = 0\n",
    "    rand_indices = torch.randperm(len(valid_imgs)) # shuffling mechanism\n",
    "    t = tqdm(range(0, len(valid_imgs), batch_size), leave=False, desc='Validating...')\n",
    "    autoencoder.eval()\n",
    "    for i in t:\n",
    "        batch_indices = rand_indices[i:i+batch_size]\n",
    "        batch = train_imgs[batch_indices]\n",
    "        batch = batch.to(device)\n",
    "        model_output = autoencoder(batch)\n",
    "        loss = nn.functional.mse_loss(batch, model_output) # TODO: Replace with emd\n",
    "        \n",
    "        loss = loss.sum().item()\n",
    "        t.set_description('valid_loss = %.7f' % loss)\n",
    "        t.refresh()\n",
    "        avg_loss += loss / len(batch)\n",
    "    valid_loss.append(avg_loss / len(t))\n",
    "    \n",
    "    # EARLY STOPPING\n",
    "    if valid_loss[-1] > min(valid_loss):\n",
    "        stale_epochs += 1\n",
    "        if stale_epochs == patience:\n",
    "            print(f'Early Stopping at epoch {epoch}')\n",
    "            break\n",
    "    else:\n",
    "        stale_epochs = 0\n",
    "        best_epoch = epoch\n",
    "        torch.save(autoencoder.state_dict(), '/anomalyvol/qg_adv_experiments/cnnae.pt')"
   ]
  },
  {
   "cell_type": "code",
   "execution_count": null,
   "id": "91ef7e63",
   "metadata": {},
   "outputs": [],
   "source": [
    "plt.plot(train_loss, label='Train')\n",
    "plt.plot(valid_loss, label='Valid')\n",
    "plt.axvline(x=best_epoch, linestyle='--')\n",
    "\n",
    "plt.title('CNN-AE Pretraining')\n",
    "plt.yscale('log')\n",
    "plt.ylabel('MSE')\n",
    "plt.xlabel('Epoch')\n",
    "plt.legend()\n",
    "\n",
    "plt.show()"
   ]
  },
  {
   "cell_type": "markdown",
   "id": "44df31d1",
   "metadata": {},
   "source": [
    "### EMD CNN Pre-Training"
   ]
  },
  {
   "cell_type": "code",
   "execution_count": 11,
   "id": "0f8c748e",
   "metadata": {},
   "outputs": [],
   "source": [
    "class EMDCNN(nn.Module):\n",
    "    def __init__(self):\n",
    "        super(EMDCNN, self).__init__()\n",
    "        \n",
    "        self.convs = nn.Sequential(\n",
    "            nn.Conv2d(2, 32, 3, padding='same'),\n",
    "            nn.BatchNorm2d(32),\n",
    "            nn.ReLU(),\n",
    "            nn.Conv2d(32, 64, 3, padding='same'),\n",
    "            nn.BatchNorm2d(64),\n",
    "            nn.ReLU(),\n",
    "            nn.Conv2d(64, 2, 3, padding='same')\n",
    "        )\n",
    "        self.fcn = nn.Sequential(\n",
    "            nn.Linear(28 * 28 * 2, 256),\n",
    "            nn.ReLU(),\n",
    "            nn.Linear(256, 64),\n",
    "            nn.ReLU(),\n",
    "            nn.Linear(64, 1)\n",
    "        )\n",
    "        \n",
    "    def forward(self, img1, img2):\n",
    "        img = torch.cat([img1, img2], dim=1)\n",
    "\n",
    "        out = self.convs(img)\n",
    "        out = out.flatten(start_dim=1) # flatten everything excluding batch dimension\n",
    "        out = self.fcn(out)\n",
    "        return out\n",
    "    \n",
    "class SymmEMDCNN(nn.Module):\n",
    "    def __init__(self):\n",
    "        super(SymmEMDCNN, self).__init__()\n",
    "        self.emdcnn = EMDCNN()\n",
    "        \n",
    "    def forward(self, img1, img2):\n",
    "        out1 = self.emdcnn(img1, img2)\n",
    "        out2 = self.emdcnn(img2, img1)\n",
    "        avg = (out1 + out2) / 2\n",
    "        return nn.functional.softplus(avg)"
   ]
  },
  {
   "cell_type": "code",
   "execution_count": 12,
   "id": "611a4671",
   "metadata": {},
   "outputs": [],
   "source": [
    "lr = 0.001\n",
    "\n",
    "emdcnn = SymmEMDCNN().to(device)\n",
    "optimizer = torch.optim.Adam(emdcnn.parameters(), lr=lr)"
   ]
  },
  {
   "cell_type": "code",
   "execution_count": null,
   "id": "ab53238e",
   "metadata": {
    "scrolled": false
   },
   "outputs": [],
   "source": [
    "# PRETRAIN EMD-CNN\n",
    "max_epochs = 50\n",
    "batch_size = 256\n",
    "\n",
    "patience = 20\n",
    "stale_epochs = 0\n",
    "\n",
    "train_loss = []\n",
    "valid_loss = []\n",
    "\n",
    "for epoch in tqdm(range(max_epochs)):\n",
    "\n",
    "    # TRAIN\n",
    "    avg_loss = 0\n",
    "    rand_indices = torch.randperm(len(train_imgs)) # shuffling mechanism\n",
    "    t = tqdm(range(0, len(train_imgs) - batch_size, batch_size), leave=False, desc='Training...')\n",
    "    emdcnn.train()\n",
    "    for i in t:\n",
    "        batch_indices = rand_indices[i:i+batch_size]\n",
    "        batch = train_imgs[batch_indices]\n",
    "        batch_cpu_copy = batch.clone()\n",
    "        \n",
    "        inner_t = tqdm(range(i + batch_size, len(train_imgs), batch_size), leave=False, desc='Inner-Loop...')\n",
    "        for i2 in inner_t:\n",
    "            batch_indices_2 = rand_indices[i2:i2+batch_size]\n",
    "            batch_2 = train_imgs[batch_indices_2]\n",
    "            if len(batch_2) != len(batch):\n",
    "                continue\n",
    "\n",
    "            true_emds = calc_emd_on_batch_cv2(batch_cpu_copy, batch_2).to(device)\n",
    "            \n",
    "            batch = batch.to(device)\n",
    "            batch_2 = batch_2.to(device)\n",
    "            \n",
    "            model_output = emdcnn(batch, batch_2)\n",
    "\n",
    "            loss = nn.functional.mse_loss(true_emds, model_output.flatten())\n",
    "            optimizer.zero_grad()\n",
    "            loss.backward()\n",
    "            optimizer.step()\n",
    "        \n",
    "            loss = loss.sum().item()\n",
    "            loss += loss / len(batch)\n",
    "        loss /= len(inner_t)\n",
    "        t.set_description('train loss = %.7f' % loss)\n",
    "        t.refresh()\n",
    "        avg_loss += loss / (len(t) - 1)\n",
    "        \n",
    "    train_loss.append(avg_loss)\n",
    "    \n",
    "    if avg_loss > max(train_loss):\n",
    "        stale_epochs += 10\n",
    "        if state_epochs == patience:\n",
    "            break\n",
    "    else:\n",
    "        stale_epochs = 0\n",
    "        torch.save(emdcnn.state_dict(), '/anomalyvol/qg_adv_experiments/emdcnn.pt')"
   ]
  },
  {
   "cell_type": "code",
   "execution_count": null,
   "id": "2c67dd11",
   "metadata": {},
   "outputs": [],
   "source": [
    "plt.plot(train_loss, label='Train')\n",
    "# plt.plot(valid_loss, label='Valid')\n",
    "# plt.axvline(x=best_epoch, linestyle='--')\n",
    "\n",
    "plt.title('EMD-CNN Pretraining')\n",
    "plt.yscale('log')\n",
    "plt.ylabel('MSE')\n",
    "plt.xlabel('Epoch')\n",
    "plt.legend()\n",
    "\n",
    "plt.show()"
   ]
  },
  {
   "cell_type": "code",
   "execution_count": null,
   "id": "2bf061b5",
   "metadata": {
    "scrolled": false
   },
   "outputs": [],
   "source": [
    "plt.hist(true_emds.cpu().numpy())"
   ]
  },
  {
   "cell_type": "code",
   "execution_count": null,
   "id": "7728a4d1",
   "metadata": {
    "scrolled": true
   },
   "outputs": [],
   "source": [
    "plt.hist(model_output.cpu().detach().numpy())"
   ]
  },
  {
   "cell_type": "markdown",
   "id": "39e36fc8",
   "metadata": {},
   "source": [
    "### Adversarial Training"
   ]
  },
  {
   "cell_type": "code",
   "execution_count": 13,
   "id": "4abc2313",
   "metadata": {},
   "outputs": [],
   "source": [
    "lr = 0.001\n",
    "ae_optimizer = torch.optim.Adam(autoencoder.parameters(), lr=lr)\n",
    "\n",
    "lr = 0.001\n",
    "emd_optimizer = torch.optim.Adam(emdcnn.parameters(), lr=lr)"
   ]
  },
  {
   "cell_type": "code",
   "execution_count": 14,
   "id": "189b7b21",
   "metadata": {},
   "outputs": [
    {
     "data": {
      "text/plain": [
       "<All keys matched successfully>"
      ]
     },
     "execution_count": 14,
     "metadata": {},
     "output_type": "execute_result"
    }
   ],
   "source": [
    "emdcnn.load_state_dict(torch.load('/anomalyvol/qg_adv_experiments/emdcnn.pt'))\n",
    "autoencoder.load_state_dict(torch.load('/anomalyvol/qg_adv_experiments/cnnae.pt'))"
   ]
  },
  {
   "cell_type": "code",
   "execution_count": null,
   "id": "081c9774",
   "metadata": {},
   "outputs": [],
   "source": [
    "# ADVERSARIAL\n",
    "# algo: per batch: feed ae, update emd-cnn on generated jet + input jet, update ae using predicted emd\n",
    "\n",
    "max_epochs = 40\n",
    "batch_size = 256\n",
    "\n",
    "patience = 20\n",
    "stale_epochs = 0\n",
    "\n",
    "ae_pemd_train_loss = [] # pemd = predicted, temd = true\n",
    "ae_temd_train_loss = [] \n",
    "ae_pemd_valid_loss = []\n",
    "ae_temd_valid_loss = []\n",
    "# emd_train_loss = []\n",
    "\n",
    "for epoch in tqdm(range(max_epochs)):\n",
    "\n",
    "    # TRAIN\n",
    "    avg_pemd_loss = 0\n",
    "    avg_temd_loss = 0\n",
    "    rand_indices = torch.randperm(len(train_imgs)) # shuffling mechanism\n",
    "    t = tqdm(range(0, len(train_imgs), batch_size), leave=False, desc='Training...')\n",
    "    autoencoder.train()\n",
    "\n",
    "    for i in t:\n",
    "        batch_indices = rand_indices[i : i + batch_size]\n",
    "        batch = train_imgs[batch_indices]\n",
    "        batch_cpu_copy = batch.clone()\n",
    "        batch = batch.to(device)\n",
    "\n",
    "        model_output = autoencoder(batch) # reco\n",
    "        \n",
    "        # EMD-CNN Update before calculating loss \n",
    "        emdcnn.train()\n",
    "        ae_output = model_output.clone().detach().cpu()\n",
    "        true_emds = calc_emd_on_batch_cv2(batch_cpu_copy, ae_output).to(device)\n",
    "        emd_pred = emdcnn(model_output, batch)\n",
    "        emd_model_error = nn.functional.mse_loss(emd_pred.flatten(), true_emds)\n",
    "        emd_optimizer.zero_grad()\n",
    "        emd_model_error.backward(retain_graph=True)\n",
    "        emd_optimizer.step()\n",
    "\n",
    "        # Use updated emdcnn as loss\n",
    "        emdcnn.eval()\n",
    "        emd_pred_loss = emdcnn(model_output, batch).mean()\n",
    "        ae_optimizer.zero_grad()\n",
    "        emd_pred_loss.backward()\n",
    "        ae_optimizer.step()\n",
    "        \n",
    "        emd_pred_loss = emd_pred_loss.sum().item()\n",
    "        t.set_description('train_loss = %.7f' % emd_pred_loss)\n",
    "        t.refresh()\n",
    "        \n",
    "        avg_pemd_loss += emd_pred_loss                               # add avg error for batch\n",
    "        avg_temd_loss += true_emds.sum().item() / len(batch)\n",
    "\n",
    "    ae_pemd_train_loss.append(avg_pemd_loss / len(t))                # append avg error for epoch\n",
    "    ae_temd_train_loss.append(avg_temd_loss / len(t))\n",
    "    \n",
    "    # VALIDATE\n",
    "    avg_pemd_loss = 0\n",
    "    avg_temd_loss = 0\n",
    "    rand_indices = torch.randperm(len(valid_imgs)) # shuffling mechanism\n",
    "    t = tqdm(range(0, len(valid_imgs), batch_size), leave=False, desc='Validating...')\n",
    "    autoencoder.eval()\n",
    "    emdcnn.eval()\n",
    "\n",
    "    for i in t:\n",
    "        batch_indices = rand_indices[i : i + batch_size]\n",
    "        batch = valid_imgs[batch_indices]\n",
    "        batch_cpu_copy = batch.clone()\n",
    "        batch = batch.to(device)\n",
    "\n",
    "        model_output = autoencoder(batch) # reco\n",
    "        \n",
    "        # true emd and predicted emd\n",
    "        ae_output = model_output.clone().detach().cpu()\n",
    "        true_emds = calc_emd_on_batch_cv2(batch_cpu_copy, ae_output)\n",
    "        emd_pred = emdcnn(model_output, batch)\n",
    "        \n",
    "        emd_pred_loss = emd_pred_loss.sum().item()\n",
    "        t.set_description('valid_loss = %.7f' % emd_pred_loss)\n",
    "        t.refresh()\n",
    "        \n",
    "        avg_pemd_loss += emd_pred_loss / len(batch)                 # add avg error for batch\n",
    "        avg_temd_loss += true_emds.sum().item() / len(batch)\n",
    "\n",
    "    ae_pemd_valid_loss.append(avg_pemd_loss / len(t))                # append avg error for epoch\n",
    "    ae_temd_valid_loss.append(avg_temd_loss / len(t))"
   ]
  },
  {
   "cell_type": "code",
   "execution_count": null,
   "id": "c843b0a3",
   "metadata": {
    "scrolled": false
   },
   "outputs": [],
   "source": [
    "plt.figure(figsize=(8,6))\n",
    "plt.plot(ae_pemd_train_loss, label='Pred EMD (Train Set)')\n",
    "plt.plot(ae_temd_train_loss, label='Real EMD (Train Set)')\n",
    "plt.plot(ae_pemd_valid_loss, label='Pred EMD (Valid Set)')\n",
    "plt.plot(ae_temd_valid_loss, label='Real EMD (Valid Set)')\n",
    "\n",
    "plt.title('AE Adversarial Training')\n",
    "plt.yscale('log')\n",
    "plt.ylabel('EMD')\n",
    "plt.xlabel('Epoch')\n",
    "plt.legend()\n",
    "\n",
    "plt.show()"
   ]
  },
  {
   "cell_type": "code",
   "execution_count": null,
   "id": "f5d09ed1",
   "metadata": {},
   "outputs": [],
   "source": [
    "plt.plot(ae_temd_train_loss, label='Real EMD (Train Set)', color='orange')\n",
    "plt.plot(ae_temd_valid_loss, label='Real EMD (Valid Set)', color='r')\n",
    "plt.title('AE Adversarial Training')\n",
    "plt.yscale('log')\n",
    "plt.ylabel('True EMD')\n",
    "plt.xlabel('Epoch')\n",
    "plt.legend()\n",
    "\n",
    "plt.show()"
   ]
  },
  {
   "cell_type": "code",
   "execution_count": null,
   "id": "93907632",
   "metadata": {},
   "outputs": [],
   "source": [
    "plt.plot(ae_pemd_train_loss, label='Pred EMD (Train Set)', color='b')\n",
    "plt.plot(ae_pemd_valid_loss, label='Pred EMD (Valid Set)', color='g')\n",
    "\n",
    "plt.title('AE Adversarial Training')\n",
    "plt.yscale('log')\n",
    "plt.ylabel('Predicted EMD')\n",
    "plt.xlabel('Epoch')\n",
    "plt.legend()\n",
    "\n",
    "plt.show()"
   ]
  },
  {
   "cell_type": "code",
   "execution_count": null,
   "id": "b085158c",
   "metadata": {},
   "outputs": [],
   "source": [
    "torch.save(autoencoder.state_dict(), '/anomalyvol/qg_adv_experiments/adv_ae.pt')\n",
    "torch.save(emdcnn.state_dict(), '/anomalyvol/qg_adv_experiments/adv_emdcnn.pt')"
   ]
  },
  {
   "cell_type": "markdown",
   "id": "86e6c11a",
   "metadata": {},
   "source": [
    "## Can EMD Model Learn on AE Reco?"
   ]
  },
  {
   "cell_type": "code",
   "execution_count": 29,
   "id": "b606af15",
   "metadata": {},
   "outputs": [],
   "source": [
    "lr = 0.001\n",
    "ae_optimizer = torch.optim.Adam(autoencoder.parameters(), lr=lr)\n",
    "\n",
    "lr = 0.0005\n",
    "emd_optimizer = torch.optim.Adam(emdcnn.parameters(), lr=lr)"
   ]
  },
  {
   "cell_type": "code",
   "execution_count": 30,
   "id": "cdbc4ea9",
   "metadata": {},
   "outputs": [
    {
     "data": {
      "text/plain": [
       "<All keys matched successfully>"
      ]
     },
     "execution_count": 30,
     "metadata": {},
     "output_type": "execute_result"
    }
   ],
   "source": [
    "emdcnn.load_state_dict(torch.load('/anomalyvol/qg_adv_experiments/emdcnn.pt'))\n",
    "autoencoder.load_state_dict(torch.load('/anomalyvol/qg_adv_experiments/cnnae.pt'))"
   ]
  },
  {
   "cell_type": "code",
   "execution_count": 31,
   "id": "102af2c3",
   "metadata": {},
   "outputs": [
    {
     "data": {
      "application/vnd.jupyter.widget-view+json": {
       "model_id": "66e32d6897f44537a69ea4a6bccd462e",
       "version_major": 2,
       "version_minor": 0
      },
      "text/plain": [
       "Epoch:   0%|          | 0/1 [00:00<?, ?it/s]"
      ]
     },
     "metadata": {},
     "output_type": "display_data"
    },
    {
     "data": {
      "application/vnd.jupyter.widget-view+json": {
       "model_id": "",
       "version_major": 2,
       "version_minor": 0
      },
      "text/plain": [
       "AE Training...:   0%|          | 0/7 [00:00<?, ?it/s]"
      ]
     },
     "metadata": {},
     "output_type": "display_data"
    },
    {
     "data": {
      "application/vnd.jupyter.widget-view+json": {
       "model_id": "cb381e6f3598465496de273c328da241",
       "version_major": 2,
       "version_minor": 0
      },
      "text/plain": [
       "EMD Training:   0%|          | 0/15 [00:00<?, ?it/s]"
      ]
     },
     "metadata": {},
     "output_type": "display_data"
    },
    {
     "data": {
      "application/vnd.jupyter.widget-view+json": {
       "model_id": "cecc55e3bccc47608b94af4c57340a1d",
       "version_major": 2,
       "version_minor": 0
      },
      "text/plain": [
       "EMD Training:   0%|          | 0/15 [00:00<?, ?it/s]"
      ]
     },
     "metadata": {},
     "output_type": "display_data"
    },
    {
     "data": {
      "application/vnd.jupyter.widget-view+json": {
       "model_id": "80282eae0ce94b0abb65ba29bfa92b71",
       "version_major": 2,
       "version_minor": 0
      },
      "text/plain": [
       "EMD Training:   0%|          | 0/15 [00:00<?, ?it/s]"
      ]
     },
     "metadata": {},
     "output_type": "display_data"
    },
    {
     "data": {
      "application/vnd.jupyter.widget-view+json": {
       "model_id": "89081c215c1d4633a675d1157538d2db",
       "version_major": 2,
       "version_minor": 0
      },
      "text/plain": [
       "EMD Training:   0%|          | 0/15 [00:00<?, ?it/s]"
      ]
     },
     "metadata": {},
     "output_type": "display_data"
    },
    {
     "data": {
      "application/vnd.jupyter.widget-view+json": {
       "model_id": "",
       "version_major": 2,
       "version_minor": 0
      },
      "text/plain": [
       "EMD Training:   0%|          | 0/15 [00:00<?, ?it/s]"
      ]
     },
     "metadata": {},
     "output_type": "display_data"
    },
    {
     "data": {
      "application/vnd.jupyter.widget-view+json": {
       "model_id": "",
       "version_major": 2,
       "version_minor": 0
      },
      "text/plain": [
       "EMD Training:   0%|          | 0/15 [00:00<?, ?it/s]"
      ]
     },
     "metadata": {},
     "output_type": "display_data"
    },
    {
     "data": {
      "application/vnd.jupyter.widget-view+json": {
       "model_id": "",
       "version_major": 2,
       "version_minor": 0
      },
      "text/plain": [
       "EMD Training:   0%|          | 0/15 [00:00<?, ?it/s]"
      ]
     },
     "metadata": {},
     "output_type": "display_data"
    }
   ],
   "source": [
    "# ADVERSARIAL\n",
    "max_epochs = 1\n",
    "batch_size = 256\n",
    "max_emd_cnn_its = 15\n",
    "\n",
    "stale_epoch = 0\n",
    "emd_patience = 2\n",
    "\n",
    "true_emd_avgs = []\n",
    "pred_emd_avgs = []\n",
    "ae_training_losses = []\n",
    "\n",
    "ae_step_true_emd = []\n",
    "ae_step_pred_emd = []\n",
    "\n",
    "emd_early_stop_vlines = []\n",
    "\n",
    "for epoch in tqdm(range(max_epochs), desc='Epoch'):\n",
    "\n",
    "    # TRAIN\n",
    "    rand_indices = torch.randperm(len(train_imgs)) # shuffling mechanism\n",
    "    \n",
    "    t1 = tqdm(range(0, len(train_imgs), batch_size), leave=False, desc='AE Training...')\n",
    "    for i in t1:\n",
    "\n",
    "#         emdcnn.load_state_dict(torch.load('/anomalyvol/qg_adv_experiments/emdcnn.pt'))\n",
    "#         lr = 0.001\n",
    "#         emd_optimizer = torch.optim.Adam(emdcnn.parameters(), lr=lr)\n",
    "\n",
    "        emd_training_losses = []\n",
    "        t2 = tqdm(range(max_emd_cnn_its), leave=False, desc='EMD Training')\n",
    "        start_inds = iter(range(0, len(train_imgs), batch_size))\n",
    "        for j in t2:\n",
    "            \n",
    "            # iterate over the batches; reiterate if we still need more cycles to converge\n",
    "            k = next(start_inds, None)\n",
    "            if k == None:\n",
    "                start_inds = iter(range(0, len(train_imgs), batch_size))\n",
    "                k = next(start_inds, None)\n",
    "\n",
    "            batch_indices = rand_indices[k : k + batch_size]\n",
    "            batch = train_imgs[batch_indices]\n",
    "            batch_cpu_copy = batch.clone()\n",
    "            batch = batch.to(device)\n",
    "            \n",
    "            # sample reco\n",
    "            model_output = autoencoder(batch)\n",
    "\n",
    "            # EMD-CNN Update\n",
    "            emdcnn.train()\n",
    "            ae_output = model_output.clone().detach().cpu()\n",
    "            true_emds = calc_emd_on_batch_cv2(batch_cpu_copy, ae_output).to(device)\n",
    "            emd_pred = emdcnn(model_output, batch)\n",
    "            emd_model_error = nn.functional.mse_loss(emd_pred.flatten(), true_emds)\n",
    "            emd_optimizer.zero_grad()\n",
    "            emd_model_error.backward(retain_graph=True)\n",
    "            emd_optimizer.step()\n",
    "\n",
    "            true_emd_avgs.append(true_emds.sum().item() / len(batch))\n",
    "            pred_emd_avgs.append(emd_pred.sum().item() / len(batch))\n",
    "            emd_training_losses.append(emd_model_error.item())\n",
    "            \n",
    "            if abs(emd_pred.mean() - true_emds.mean()) / true_emds.mean() < 0.1:\n",
    "                break\n",
    "\n",
    "            # early stopping for emdcnn\n",
    "            if emd_training_losses[-1] > min(emd_training_losses) or emd_pred.mean() < true_emds.mean():\n",
    "                stale_epoch += 1\n",
    "                if stale_epoch == emd_patience:\n",
    "                    t2.close()\n",
    "                    break\n",
    "            else:\n",
    "                stale_epoch = 0\n",
    "                best_emd_state = copy.deepcopy(emdcnn.state_dict())\n",
    "        emdcnn.load_state_dict(best_emd_state)\n",
    "\n",
    "        # mark when going from training emd cnn to ae\n",
    "        if len(emd_early_stop_vlines) == 0:\n",
    "            emd_early_stop_vlines.append(j)\n",
    "        else:\n",
    "            emd_early_stop_vlines.append(j + emd_early_stop_vlines[-1])\n",
    "\n",
    "        # sample\n",
    "        batch_indices = rand_indices[i : i + batch_size]\n",
    "        batch = train_imgs[batch_indices]\n",
    "        batch_cpu_copy = batch.clone()\n",
    "        batch = batch.to(device)\n",
    "\n",
    "        # use emd cnn as loss\n",
    "        autoencoder.train()\n",
    "        model_output = autoencoder(batch)\n",
    "        emdcnn.eval()\n",
    "        emd_pred_loss = emdcnn(model_output, batch).mean()\n",
    "        ae_optimizer.zero_grad()\n",
    "        emd_pred_loss.backward()\n",
    "        ae_optimizer.step()\n",
    "\n",
    "        ae_output = model_output.clone().detach().cpu()\n",
    "        true_emds = calc_emd_on_batch_cv2(batch_cpu_copy, ae_output)\n",
    "\n",
    "        ae_step_pred_emd.append(emd_pred_loss.item())\n",
    "        ae_step_true_emd.append(true_emds.sum().item() / len(batch))\n",
    "    \n",
    "    break"
   ]
  },
  {
   "cell_type": "code",
   "execution_count": 32,
   "id": "f4d042ef",
   "metadata": {},
   "outputs": [
    {
     "data": {
      "image/png": "[encoded data removed]",
      "text/plain": [
       "<Figure size 576x432 with 1 Axes>"
      ]
     },
     "metadata": {
      "needs_background": "light"
     },
     "output_type": "display_data"
    }
   ],
   "source": [
    "fig,ax = plt.subplots(figsize=(8,6))\n",
    "ax.plot(true_emd_avgs, label='True EMD')\n",
    "ax.plot(pred_emd_avgs, label='Pred EMD')\n",
    "\n",
    "plt.title('Adv. Training, 1 Epoch')\n",
    "plt.yscale('log')\n",
    "plt.ylabel('EMD')\n",
    "plt.xlabel('EMD-CNN Training Iteration')\n",
    "\n",
    "for v in emd_early_stop_vlines:\n",
    "    plt.axvline(x=v, linestyle='--', color='y')\n",
    "\n",
    "plt.legend(['True EMD', 'Pred EMD', 'Switch'])\n",
    "plt.show()"
   ]
  },
  {
   "cell_type": "code",
   "execution_count": 33,
   "id": "13cf80ed",
   "metadata": {},
   "outputs": [
    {
     "data": {
      "image/png": "[encoded data removed]",
      "text/plain": [
       "<Figure size 432x288 with 1 Axes>"
      ]
     },
     "metadata": {
      "needs_background": "light"
     },
     "output_type": "display_data"
    }
   ],
   "source": [
    "plt.plot(ae_step_true_emd, label='True EMD')\n",
    "plt.plot(ae_step_pred_emd, label='Pred EMD')\n",
    "\n",
    "plt.title('AE Losses in 1 Epoch')\n",
    "plt.yscale('log')\n",
    "plt.ylabel('Pred. EMD')\n",
    "plt.xlabel('AE Train Iteration')\n",
    "\n",
    "plt.legend()\n",
    "plt.show()"
   ]
  },
  {
   "cell_type": "markdown",
   "id": "1e26f8eb",
   "metadata": {},
   "source": [
    "### Evaluate Reco"
   ]
  },
  {
   "cell_type": "code",
   "execution_count": null,
   "id": "374d5d11",
   "metadata": {},
   "outputs": [],
   "source": [
    "emdcnn.load_state_dict(torch.load('/anomalyvol/qg_adv_experiments/adv_emdcnn.pt'))\n",
    "autoencoder.load_state_dict(torch.load('/anomalyvol/qg_adv_experiments/adv_ae.pt'))"
   ]
  },
  {
   "cell_type": "code",
   "execution_count": null,
   "id": "f620add0",
   "metadata": {},
   "outputs": [],
   "source": [
    "pt_r = [] # reco\n",
    "pt_i = [] # input\n",
    "\n",
    "for img in train_imgs:\n",
    "    \n",
    "    img = img.to(device)\n",
    "    with torch.no_grad():\n",
    "        reco_img = autoencoder(img.unsqueeze(0))\n",
    "    \n",
    "    reco_img = reco_img.cpu()\n",
    "    img = img.cpu()\n",
    "    \n",
    "    reco_arr = img_to_part_array_ef(reco_img)\n",
    "    input_arr = img_to_part_array_ef(img)\n",
    "    \n",
    "    pt_r.append(reco_arr[:,0])\n",
    "    pt_i.append(input_arr[:,0])\n",
    "\n",
    "pt_r = np.concatenate(pt_r)\n",
    "pt_i = np.concatenate(pt_i)"
   ]
  },
  {
   "cell_type": "code",
   "execution_count": null,
   "id": "87fe7411",
   "metadata": {},
   "outputs": [],
   "source": [
    "plt.hist(pt_r, alpha=0.5, bins=np.linspace(0, 0.1, 10), label='Reco')\n",
    "plt.hist(pt_i, alpha=0.5, bins=np.linspace(0, 0.1, 10), label='Input')\n",
    "plt.title('pt reco after mse training')\n",
    "plt.legend()\n",
    "plt.show()"
   ]
  },
  {
   "cell_type": "code",
   "execution_count": null,
   "id": "deb71c17",
   "metadata": {},
   "outputs": [],
   "source": [
    "plt.hist(pt_r, alpha=0.5, bins=np.linspace(0, 0.1, 10), label='Reco')\n",
    "plt.hist(pt_i, alpha=0.5, bins=np.linspace(0, 0.1, 10), label='Input')\n",
    "plt.title('pt reco after emd training')\n",
    "plt.legend()\n",
    "plt.show()"
   ]
  },
  {
   "cell_type": "code",
   "execution_count": null,
   "id": "fdfb0f0a",
   "metadata": {},
   "outputs": [],
   "source": [
    "plt.imshow(img[0].numpy())"
   ]
  },
  {
   "cell_type": "code",
   "execution_count": null,
   "id": "c448670c",
   "metadata": {},
   "outputs": [],
   "source": [
    "plt.imshow(reco_img[0].squeeze(0).numpy())"
   ]
  },
  {
   "cell_type": "code",
   "execution_count": null,
   "id": "6f99c71d",
   "metadata": {
    "scrolled": false
   },
   "outputs": [],
   "source": [
    "pt_r = [] # reco\n",
    "pt_i = [] # input\n",
    "\n",
    "for img in train_imgs[:10]:\n",
    "    \n",
    "    img = img.to(device)\n",
    "    with torch.no_grad():\n",
    "        reco_img = autoencoder(img.unsqueeze(0))\n",
    "        \n",
    "    reco_img = reco_img.cpu()\n",
    "    img = img.cpu()\n",
    "    \n",
    "    plt.imshow(img[0].numpy())\n",
    "    plt.show()\n",
    "    plt.imshow(reco_img[0].squeeze(0).numpy())\n",
    "    plt.show()\n",
    "    print('-'*10)"
   ]
  }
 ],
 "metadata": {
  "kernelspec": {
   "display_name": "Python 3 (ipykernel)",
   "language": "python",
   "name": "python3"
  },
  "language_info": {
   "codemirror_mode": {
    "name": "ipython",
    "version": 3
   },
   "file_extension": ".py",
   "mimetype": "text/x-python",
   "name": "python",
   "nbconvert_exporter": "python",
   "pygments_lexer": "ipython3",
   "version": "3.9.7"
  }
 },
 "nbformat": 4,
 "nbformat_minor": 5
}
